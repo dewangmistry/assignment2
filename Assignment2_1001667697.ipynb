{
 "cells": [
  {
   "cell_type": "markdown",
   "metadata": {},
   "source": [
    "**Task 1: Rock-Paper-Scissors**"
   ]
  },
  {
   "cell_type": "markdown",
   "metadata": {},
   "source": [
    "**Algorithm**\n",
    "\n",
    "1. Get a rock-paper-scissor choice from user\n",
    "2. Generate a random choice for computer\n",
    "3. Pass both arguments to checkWinner() function\n",
    "\n",
    "    1. If both choices are same, its a tie\n",
    "    2. Between rock and scissor, rock wins\n",
    "    3. Between scissors and paper, scissor wins\n",
    "    4. Between paper and rock, paper wins\n",
    "    5. Return winner\n",
    "4. Print winner\n",
    "\n",
    "**Sample Run**\n",
    "\n",
    "Execute below cell, enter your choice between rock, paper, scissors. All these options are case-insensitive.\n",
    "\n",
    "    Enter your choice: rock\n",
    "    Computer chooses scissors\n",
    "    You, the user, win!"
   ]
  },
  {
   "cell_type": "code",
   "execution_count": 1,
   "metadata": {},
   "outputs": [
    {
     "name": "stdout",
     "output_type": "stream",
     "text": [
      "Enter your choice: paper\n",
      "Computer chooses paper\n",
      "User and computer tie!\n"
     ]
    }
   ],
   "source": [
    "import random\n",
    "\n",
    "def checkWinner(user_choice, computer_choice):\n",
    "    \"\"\"Function to check winner ina Rock-Paper-Scissors game\n",
    "\n",
    "    Args:\n",
    "        user_choice (str): Choice entered by user.\n",
    "        computer_choice (str): Choice selected by computer.\n",
    "\n",
    "    Returns:\n",
    "        str: The return value. Value of winner. tie is both same.\n",
    "    \"\"\"\n",
    "\n",
    "    if(user_choice == computer_choice):                                                                     # check if both values are same\n",
    "        return \"tie\"\n",
    "    elif(('rock' in (user_choice, computer_choice)) \n",
    "         and \n",
    "         ('scissors' in (user_choice, computer_choice))):                                                   # select rock between rock, scissor\n",
    "        return \"rock\"\n",
    "    elif(('scissors' in (user_choice, computer_choice)) and ('paper' in (user_choice, computer_choice))):   # select scissor between scissor, paper\n",
    "        return \"scissors\"\n",
    "    elif(('paper' in (user_choice, computer_choice)) and ('rock' in (user_choice, computer_choice))):       # select paper between paper, rock\n",
    "        return \"paper\"\n",
    "\n",
    "main_list = ('rock', 'paper', 'scissors')                                                                   # list of valid values\n",
    "user_choice = ''\n",
    "while True:\n",
    "    user_choice = str(input(\"Enter your choice: \")).lower().strip()                                         # strip whitespaces, \n",
    "                                                                                                            # convert user entered value to lowercase\n",
    "    if(user_choice not in main_list):                                                                       # check for invalid value\n",
    "        print(\"Invalid choice!! Enter either rock, paper or scissors\")\n",
    "        continue\n",
    "    else:\n",
    "        break\n",
    "\n",
    "computer_choice = random.choice(main_list)                                                                  # select random value for computer\n",
    "print(\"Computer chooses \" + computer_choice)\n",
    "\n",
    "winner = checkWinner(user_choice, computer_choice)\n",
    "if(winner == user_choice):                                                                                  # user wins\n",
    "    print(\"You, the user, win!\")\n",
    "elif(winner == computer_choice):                                                                            # computer wins\n",
    "    print(\"I, the computer, win!\")\n",
    "elif(winner == \"tie\"):                                                                                      # tie\n",
    "    print(\"User and computer tie!\")"
   ]
  },
  {
   "cell_type": "markdown",
   "metadata": {},
   "source": [
    "**Task 2: Number guessing**"
   ]
  },
  {
   "cell_type": "markdown",
   "metadata": {},
   "source": [
    "**Algorithm**\n",
    "\n",
    "1. Take user input for a number between 1 and 100, both inclusive.\n",
    "2. Generate a random number between 1 and 100, both inclusive.\n",
    "3. Increment count by 1\n",
    "4. Check if number in step 1 and step 2 are equal.\n",
    "5. If yes, stop and print count.\n",
    "6. If no, continue steps 2 to 5 till numbers are same.\n",
    "\n",
    "**Sample Run**\n",
    "\n",
    "Run below cell, enter a number between 1 and 100.\n",
    "\n",
    "Output:\n",
    "\n",
    "    Enter a number between 1 and 100\n",
    "    Enter number to be guessed: 65\n",
    "    You guessed 65, and it took the program 10 iterations"
   ]
  },
  {
   "cell_type": "code",
   "execution_count": 2,
   "metadata": {},
   "outputs": [
    {
     "name": "stdout",
     "output_type": "stream",
     "text": [
      "Enter a number between 1 and 100\n",
      "Enter number to be guessed: 09\n",
      "You guessed 9, and it took the program 54 iterations\n"
     ]
    }
   ],
   "source": [
    "import random\n",
    "\n",
    "user_number = 0                                                             # initializing user input variable \n",
    "iterations = 0                                                              # initializing iterations variable\n",
    "\n",
    "print(\"Enter a number between 1 and 100\")\n",
    "while True:                                                                 # to iterate till valid input is received\n",
    "    try:\n",
    "        user_number = int(input(\"Enter number to be guessed: \").strip())\n",
    "        if(user_number != '' and (0<user_number<101)):                      # check if number is not empty and between 1 and 100\n",
    "            break\n",
    "        else:\n",
    "            raise ValueError()\n",
    "    except ValueError as e:\n",
    "        print(\"Invalid number!!\")                                           # print message for all exceptions and invalid user input\n",
    "\n",
    "while True:                                                                 # itearate till number is guessed\n",
    "    computer_number = random.randint(1,101)                                 # generate a random number between 1 and 100\n",
    "    iterations += 1                                                         # increment iteration by 1\n",
    "    if(computer_number == user_number):                                     \n",
    "        print(\"You guessed {}, and it took the program {} iterations\"       # print if numbers match and stop\n",
    "        .format(str(user_number), str(iterations)))\n",
    "        break                                                               # stop the while loop"
   ]
  },
  {
   "cell_type": "markdown",
   "metadata": {},
   "source": [
    "**Task 3: Letter in first character**"
   ]
  },
  {
   "cell_type": "markdown",
   "metadata": {},
   "source": [
    "**Algorithm**\n",
    "\n",
    "1. Take user input for a line of text\n",
    "2. Take user input for a letter\n",
    "3. Pass params to function checkFirstCharacter()\n",
    "    1. Split line of text to an array of individual words\n",
    "    2. Check first character of each word and increment count if it matches the letter entered by user\n",
    "    3. Return final count\n",
    "4. Print count\n",
    "\n",
    "**Sample Run**\n",
    "\n",
    "Run below cell, enter line of text, then a letter.\n",
    "\n",
    "Output:\n",
    "\n",
    "    Enter your line of text: Where the mind is without fear and the head is held high\n",
    "    Enter your letter to use: h\n",
    "    Your letter h occurs as the first letter: 3 times"
   ]
  },
  {
   "cell_type": "code",
   "execution_count": 3,
   "metadata": {},
   "outputs": [
    {
     "name": "stdout",
     "output_type": "stream",
     "text": [
      "Enter your line of text: Hrllo how are\n",
      "Enter your letter to use: a\n",
      "Your letter a occurs as the first letter: 1 times\n"
     ]
    }
   ],
   "source": [
    "def checkFirstCharacter(text, letter):\n",
    "    \"\"\"Function to check a letter as first character in all words in a text\n",
    "\n",
    "    Args:\n",
    "        text (str): line of text\n",
    "        letter (str): A single letter to check agaonst text. Can only be alphabet.\n",
    "\n",
    "    Returns:\n",
    "        int: Returns count of times the letter is first character of word in text\n",
    "    \"\"\"\n",
    "    count = 0\n",
    "    list_of_text = text.split()                                                             # split text into words and store in a list\n",
    "    for word in list_of_text:                                                               # to iterate through each word and check if first\n",
    "                                                                                            # character matches letter\n",
    "        if(word[0] == letter):\n",
    "            count = count+1                                                                 # increment count by 1\n",
    "    return count                                                                            # return final count\n",
    "\n",
    "while True:\n",
    "    user_text = str(input(\"Enter your line of text: \")).strip().lower()                     # line of text text from user\n",
    "    if(user_text != ''):                                                                    # check if text is not empty\n",
    "        break\n",
    "    else:\n",
    "        print(\"Invalid text !!\")\n",
    "\n",
    "while True:                                                                                 # iterate till valid input received                                                      \n",
    "    try:\n",
    "        user_letter = str(input(\"Enter your letter to use: \")).strip().lower()              # letter from user\n",
    "        if(user_letter != '' and user_letter.isalpha() == True and len(user_letter) == 1):  # check if letter is not empty, is an alphabet\n",
    "                                                                                            # and is only 1 letter\n",
    "            break\n",
    "        else:\n",
    "            print(\"Invalid letter !!\")\n",
    "    except Exception:                                                                       # handle exception for non-alphabet input\n",
    "        print(\"Invalid letter !!\")\n",
    "\n",
    "count = checkFirstCharacter(user_text, user_letter)                                         # call checkFirstCharacter() function with\n",
    "                                                                                            # user_text, user_letter as params\n",
    "print(\"Your letter {} occurs as the first letter: {} times\".format(user_letter, str(count)))"
   ]
  },
  {
   "cell_type": "markdown",
   "metadata": {},
   "source": [
    "**Task 4: Palindrome**"
   ]
  },
  {
   "cell_type": "markdown",
   "metadata": {},
   "source": [
    "**Algorithm**\n",
    "\n",
    "1. Take user input for a string\n",
    "2. Remove all spaces from the string and join all words\n",
    "3. Reverse the string from step 2 and check if its same as string in step 1\n",
    "4. If yes, it is a palindrome else not\n",
    "\n",
    "**Sample Run**\n",
    "\n",
    "Run below cell, enter a string.\n",
    "\n",
    "Output:\n",
    "\n",
    "    Enter a string: A nut for a jar of tuna\n",
    "    “A nut for a jar of tuna” is a palindrome"
   ]
  },
  {
   "cell_type": "code",
   "execution_count": 4,
   "metadata": {},
   "outputs": [
    {
     "name": "stdout",
     "output_type": "stream",
     "text": [
      "Enter a string: lolol\n",
      "“lolol” is a palindrome\n"
     ]
    }
   ],
   "source": [
    "while True:                                             # iterate till valid input received\n",
    "    string = str(input(\"Enter a string: \")).strip()     # user input for string, remove whitespaces \n",
    "    if(string != ''):                                   # if string is not empty, it is valid\n",
    "        break\n",
    "\n",
    "joined_string = string.replace(\" \", \"\").lower()         # replace all spaces with empty characters\n",
    "reversed_string = joined_string[::-1]                   # reverse joined string using slice operator\n",
    "\n",
    "if(joined_string == reversed_string):                   # check if joined and reversed string are equal\n",
    "    print(\"“{}” is a palindrome\".format(string))        # if equal, string is palindrome\n",
    "else:\n",
    "    print(\"“{}” is not a palindrome\".format(string))    # if not equal, string is not a palindrome"
   ]
  },
  {
   "cell_type": "markdown",
   "metadata": {},
   "source": [
    "**Task 5: File statistics**"
   ]
  },
  {
   "cell_type": "markdown",
   "metadata": {},
   "source": [
    "**Algorithm**\n",
    "\n",
    "1. Take a filename from user\n",
    "2. Read file, remove empty newlines. If file is empty, ask user for another file.\n",
    "3. Count number of lines. This gives number of lines.\n",
    "4. Split each line into an array of words and count number of words and sum them all. This gives number of words.\n",
    "5. Split each word from above step into characters and calculate sum of characters of each word and add to final \n",
    "    number of characters. This gives number of characters.\n",
    "6. Calculate average lenght of word by number of character/number of words. Round to 1 decimal.\n",
    "7. Print counts from steps 3,4,5,6\n",
    "\n",
    "I have used readline() function to read file content. Readline reads each line from file, and appends it to a list. \n",
    "If the file has 4 lines each starting from a newline, they will be considered individual line. So the length of the list will be 4. That's how I have calculated number of lines. \n",
    "\n",
    "**Sample Run**\n",
    "\n",
    "Run below cell, enter valid filename. \n",
    "\n",
    "PS: If running on Linux, filename is case-sensitive. On Windows, it is case-insensitive. File should be in same folder as this notebook.\n",
    "\n",
    "Output:\n",
    "\n",
    "    What is the filename: foo.txt\n",
    "    File not found. Enter valid filename. \n",
    "    What is the filename: robertfrost.txt\n",
    "    Number of lines: 4\n",
    "    Number of words: 27\n",
    "    Number of characters: 103\n",
    "    Average length of a word: 3.8\n",
    "\n"
   ]
  },
  {
   "cell_type": "code",
   "execution_count": 5,
   "metadata": {},
   "outputs": [
    {
     "name": "stdout",
     "output_type": "stream",
     "text": [
      "What is the filename: robertfrost.txt\n",
      "Number of lines: 1\n",
      "Number of words: 27\n",
      "Number of characters: 103\n",
      "Average length of a word: 3.8\n"
     ]
    }
   ],
   "source": [
    "while True:                                                     # to iterate till valid file is received\n",
    "    try:\n",
    "        filename = str(input(\"What is the filename: \"))         # get filename from user. FIlename is case sensitive.\n",
    "        if filename != '':\n",
    "            with open(filename) as f:                           # open file\n",
    "                content = f.readlines()                         # read contents of file\n",
    "                if '\\n' in content:                             # check for newlines and remove them\n",
    "                    content.remove('\\n')                        \n",
    "                if content:                                     # check if file is not empty after removing all newlines. \n",
    "                                                                # This is to ensure file has content in it\n",
    "                    break\n",
    "                else:\n",
    "                    print(\"File is empty. Enter another filename. \")    # ask for valid filename if any condition above fails\n",
    "    except FileNotFoundError:\n",
    "        print(\"File not found. Enter valid filename. \")         # to handle file not found error\n",
    "\n",
    "\n",
    "lines = len(content)                                            # calculate number of lines\n",
    "list_of_words = [line.split() for line in content]              # split each line into list of words\n",
    "\n",
    "word_count = 0\n",
    "character_count = 0\n",
    "for word in list_of_words:                                      # iterate through each word of each line\n",
    "    word_count += len(word)                                     # calculate length of word and add to total word count\n",
    "    character_count += sum(len(i) for i in word)                # calculate number of character in above word and add to total character count\n",
    "\n",
    "print(\"Number of lines: {}\".format(lines))                      # print number of lines in file\n",
    "print(\"Number of words: {}\".format(word_count))                 # print number of words in file\n",
    "print(\"Number of characters: {}\".format(character_count))       # print total no. of characters\n",
    "print(\"Average length of a word: {}\".format(\n",
    "    round(character_count/word_count, 1)))                      # print average word length"
   ]
  },
  {
   "cell_type": "code",
   "execution_count": null,
   "metadata": {},
   "outputs": [],
   "source": []
  }
 ],
 "metadata": {
  "kernelspec": {
   "display_name": "Python 3",
   "language": "python",
   "name": "python3"
  },
  "language_info": {
   "codemirror_mode": {
    "name": "ipython",
    "version": 3
   },
   "file_extension": ".py",
   "mimetype": "text/x-python",
   "name": "python",
   "nbconvert_exporter": "python",
   "pygments_lexer": "ipython3",
   "version": "3.8.5"
  }
 },
 "nbformat": 4,
 "nbformat_minor": 4
}
